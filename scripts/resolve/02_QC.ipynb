{
 "cells": [
  {
   "cell_type": "code",
   "execution_count": 2,
   "metadata": {},
   "outputs": [],
   "source": [
    "import numpy as np\n",
    "import cv2\n",
    "from skimage import exposure, morphology, segmentation\n",
    "import pandas as pd\n",
    "import scipy.sparse as sparse\n",
    "import os"
   ]
  },
  {
   "cell_type": "code",
   "execution_count": 4,
   "metadata": {},
   "outputs": [],
   "source": [
    "import sys\n",
    "sys.path.insert(0,'/h/resolve_glioblastoma/data/')\n",
    "from ResolveTools.image.utils import save_tiff, claher, read_single_modality_confocal, save_tiff_from_float, resize_shrink\n",
    "from ResolveTools.resolve.resolveimage import ResolveImage"
   ]
  },
  {
   "cell_type": "code",
   "execution_count": 3,
   "metadata": {
    "code_folding": [
     0
    ]
   },
   "outputs": [],
   "source": [
    "def generate_zDistribution(name):\n",
    "    rim = ResolveImage(\"01_raw/T6GBM_\"+name+\"_transcripts.txt\")\n",
    "    rim.add_metadata(\"../metadata/gbm_resolve_genes.xlsx\")\n",
    "    \n",
    "    rim.full_data[\"x\"] = rim.full_data[\"x\"]//8\n",
    "    rim.full_data[\"y\"] = rim.full_data[\"y\"]//8\n",
    "    rim.full_data[\"z\"] = rim.full_data[\"z\"]//2\n",
    "\n",
    "    rim.full_data[\"x\"] = rim.full_data[\"x\"] - rim.full_data[\"x\"].min()\n",
    "    rim.full_data[\"y\"] = rim.full_data[\"y\"] - rim.full_data[\"y\"].min()\n",
    "    rim.full_data[\"z\"] = rim.full_data[\"z\"] - rim.full_data[\"z\"].min()\n",
    "\n",
    "    img = np.zeros([rim.full_data[\"z\"].max()+1, 3, rim.full_data[\"x\"].max()+1, rim.full_data[\"y\"].max()+1])\n",
    "\n",
    "    def add_df(img, df, i):\n",
    "        img[df[\"z\"],i,df[\"x\"],df[\"y\"]] = 1\n",
    "    \n",
    "    for gene in rim.genes[rim.genes[\"Species\"]==\"Mouse\"][\"GeneR\"]:\n",
    "        add_df(img, rim.full_data[rim.full_data[\"GeneR\"]==gene], 0)\n",
    "\n",
    "    for gene in rim.genes[rim.genes[\"Species\"]==\"Human\"][\"GeneR\"]:\n",
    "        add_df(img, rim.full_data[rim.full_data[\"GeneR\"]==gene], 2 if gene == \"MCHERRY\" else 1)\n",
    "\n",
    "    img = (img*255).astype(\"H\")\n",
    "    save_tiff(\"02_QC/T6GBM_\"+name+\"_zDistribution.tif\", img)"
   ]
  },
  {
   "cell_type": "code",
   "execution_count": 9,
   "metadata": {
    "collapsed": true
   },
   "outputs": [
    {
     "name": "stdout",
     "output_type": "stream",
     "text": [
      "['R1_W0A1' 'R1_W0A2' 'R1_W1A1' 'R1_W2A1' 'R1_W3A1' 'R1_W3A2' 'R1_W3A3'\n",
      " 'R1_W5A2' 'R1_W5A3' 'R1_W6A1' 'R1_W6A2' 'R1_W7A1' 'R1_W7A2' 'R2_W0A1'\n",
      " 'R2_W0A2' 'R2_W1A1' 'R2_W2A1' 'R2_W3A1' 'R2_W4A1' 'R2_W5A1' 'R2_W5A2'\n",
      " 'R2_W6A1' 'R2_W7A1']\n",
      "R1_W0A1\n",
      "R1_W0A2\n",
      "R1_W1A1\n",
      "R1_W2A1\n",
      "R1_W3A1\n",
      "R1_W3A2\n",
      "R1_W3A3\n",
      "R1_W5A2\n",
      "R1_W5A3\n",
      "R1_W6A1\n",
      "R1_W6A2\n",
      "R1_W7A1\n",
      "R1_W7A2\n",
      "R2_W0A1\n",
      "R2_W0A2\n",
      "R2_W1A1\n",
      "R2_W2A1\n",
      "R2_W3A1\n",
      "R2_W4A1\n",
      "R2_W5A1\n",
      "R2_W5A2\n",
      "R2_W6A1\n",
      "R2_W7A1\n"
     ]
    }
   ],
   "source": [
    "names = np.unique([l[6:13] for l in os.listdir(\"01_raw\")])\n",
    "for name in names:\n",
    "    print(name)\n",
    "    if \"R1\" not in name: generate_zDistribution(name)"
   ]
  },
  {
   "cell_type": "code",
   "execution_count": 47,
   "metadata": {
    "code_folding": [
     0
    ]
   },
   "outputs": [],
   "source": [
    "def get_summary(name):\n",
    "    rim = ResolveImage(\"01_raw/T6GBM_\"+name+\"_transcripts.txt\")\n",
    "    rim.add_metadata(\"../metadata/gbm_resolve_genes.xlsx\")\n",
    "    \n",
    "    ct = rim.genes[[\"Count\"]].copy()\n",
    "    ct.columns = [name]\n",
    "    \n",
    "    vol = np.prod(rim.full_data[[\"x\",\"y\"]].max(axis=0))*np.prod(rim.voxelsize[:2])\n",
    "    print(name+\":\",np.round(float(ct.sum()/vol)*100,2),\"counts per 100 um^2.\")\n",
    "    return ct"
   ]
  },
  {
   "cell_type": "code",
   "execution_count": 48,
   "metadata": {
    "collapsed": true
   },
   "outputs": [
    {
     "name": "stdout",
     "output_type": "stream",
     "text": [
      "R1_W0A1: 7.93 counts per 100 um^2.\n",
      "R1_W0A2: 10.39 counts per 100 um^2.\n",
      "R1_W1A1: 6.94 counts per 100 um^2.\n",
      "R1_W2A1: 7.57 counts per 100 um^2.\n",
      "R1_W3A1: 7.96 counts per 100 um^2.\n",
      "R1_W3A2: 8.93 counts per 100 um^2.\n",
      "R1_W3A3: 6.13 counts per 100 um^2.\n",
      "R1_W5A2: 5.97 counts per 100 um^2.\n",
      "R1_W5A3: 3.47 counts per 100 um^2.\n",
      "R1_W6A1: 2.85 counts per 100 um^2.\n",
      "R1_W6A2: 6.18 counts per 100 um^2.\n",
      "R1_W7A1: 14.39 counts per 100 um^2.\n",
      "R1_W7A2: 7.6 counts per 100 um^2.\n",
      "R2_W0A1: 15.74 counts per 100 um^2.\n",
      "R2_W0A2: 28.19 counts per 100 um^2.\n",
      "R2_W1A1: 15.21 counts per 100 um^2.\n",
      "R2_W2A1: 25.62 counts per 100 um^2.\n",
      "R2_W3A1: 13.7 counts per 100 um^2.\n",
      "R2_W4A1: 9.47 counts per 100 um^2.\n",
      "R2_W5A1: 3.96 counts per 100 um^2.\n",
      "R2_W5A2: 7.76 counts per 100 um^2.\n",
      "R2_W6A1: 7.88 counts per 100 um^2.\n",
      "R2_W7A1: 6.55 counts per 100 um^2.\n"
     ]
    }
   ],
   "source": [
    "names = np.unique([l[6:13] for l in os.listdir(\"01_raw\")])\n",
    "cts = [get_summary(name) for name in names]"
   ]
  },
  {
   "cell_type": "code",
   "execution_count": 49,
   "metadata": {},
   "outputs": [],
   "source": [
    "df = pd.concat(cts, axis=1)\n",
    "df[df!=df] = 0\n",
    "df.to_csv(\"02_QC/occurences.csv\", sep=\"\\t\")"
   ]
  },
  {
   "cell_type": "code",
   "execution_count": 51,
   "metadata": {
    "collapsed": true
   },
   "outputs": [
    {
     "data": {
      "text/plain": [
       "R1_W0A1     3332\n",
       "R1_W0A2    10570\n",
       "R1_W1A1     8441\n",
       "R1_W2A1    12126\n",
       "R1_W3A1     9633\n",
       "R1_W3A2     1470\n",
       "R1_W3A3     3372\n",
       "R1_W5A2        1\n",
       "R1_W5A3        1\n",
       "R1_W6A1        2\n",
       "R1_W6A2        0\n",
       "R1_W7A1        0\n",
       "R1_W7A2        0\n",
       "R2_W0A1     1243\n",
       "R2_W0A2      207\n",
       "R2_W1A1     2133\n",
       "R2_W2A1     1141\n",
       "R2_W3A1      999\n",
       "R2_W4A1        5\n",
       "R2_W5A1        1\n",
       "R2_W5A2        1\n",
       "R2_W6A1    11884\n",
       "R2_W7A1     8400\n",
       "Name: MCHERRY, dtype: object"
      ]
     },
     "execution_count": 51,
     "metadata": {},
     "output_type": "execute_result"
    }
   ],
   "source": [
    "df.loc[\"MCHERRY\"]"
   ]
  },
  {
   "cell_type": "code",
   "execution_count": null,
   "metadata": {},
   "outputs": [],
   "source": []
  },
  {
   "cell_type": "code",
   "execution_count": null,
   "metadata": {},
   "outputs": [],
   "source": []
  },
  {
   "cell_type": "markdown",
   "metadata": {
    "heading_collapsed": true
   },
   "source": [
    "# Special Gene Distribution"
   ]
  },
  {
   "cell_type": "code",
   "execution_count": 10,
   "metadata": {
    "hidden": true
   },
   "outputs": [],
   "source": [
    "dapi = read_single_modality_confocal(\"../confocal/R1_01_image/Confocal_R1_W3A1_DAPI.tif\")\n",
    "dapi = np.asarray([resize_shrink(img, 3) for img in dapi])[:,None]\n",
    "mcherry = read_single_modality_confocal(\"../confocal/R1_01_image/Confocal_R1_W3A1_mCherry.tif\")\n",
    "mcherry = np.asarray([resize_shrink(img, 3) for img in mcherry])[:,None]"
   ]
  },
  {
   "cell_type": "code",
   "execution_count": 11,
   "metadata": {
    "hidden": true
   },
   "outputs": [
    {
     "data": {
      "text/plain": [
       "(17, 1, 2890, 4235)"
      ]
     },
     "execution_count": 11,
     "metadata": {},
     "output_type": "execute_result"
    }
   ],
   "source": [
    "dapi.shape"
   ]
  },
  {
   "cell_type": "code",
   "execution_count": 16,
   "metadata": {
    "hidden": true
   },
   "outputs": [],
   "source": [
    "rim = ResolveImage(\"../resolve/R1_04_registration3D/T6GBM_R1_W3A1_transcripts_registered3D.txt\")\n",
    "rim.add_metadata(\"../metadata/gbm_resolve_genes.xlsx\")\n",
    "rim.full_data[[\"x\",\"y\"]] = rim.full_data[[\"x\",\"y\"]]//3"
   ]
  },
  {
   "cell_type": "code",
   "execution_count": 19,
   "metadata": {
    "hidden": true
   },
   "outputs": [],
   "source": [
    "genesD = set(rim.genes[rim.genes[\"Celltype\"]==\"Differentiation\"][\"GeneR\"])\n",
    "genesHuman_woD = set(rim.genes[rim.genes[\"Species\"]!=\"Mouse\"][\"GeneR\"]) - genesD\n",
    "genesMouse = set(rim.genes[rim.genes[\"Species\"]==\"Mouse\"][\"GeneR\"])"
   ]
  },
  {
   "cell_type": "code",
   "execution_count": 34,
   "metadata": {
    "hidden": true
   },
   "outputs": [],
   "source": [
    "rim.full_data[\"color\"] = 2\n",
    "rim.full_data.loc[rim.full_data[\"GeneR\"].apply(lambda x: x in genesHuman_woD), \"color\"] = 1\n",
    "rim.full_data.loc[rim.full_data[\"GeneR\"].apply(lambda x: x in genesD), \"color\"] = 0"
   ]
  },
  {
   "cell_type": "code",
   "execution_count": 38,
   "metadata": {
    "hidden": true
   },
   "outputs": [],
   "source": [
    "shape = [dapi.shape[0]]+[3]+list(dapi.shape[-2:])"
   ]
  },
  {
   "cell_type": "code",
   "execution_count": 40,
   "metadata": {
    "hidden": true
   },
   "outputs": [],
   "source": [
    "counts = np.zeros(shape)"
   ]
  },
  {
   "cell_type": "code",
   "execution_count": 49,
   "metadata": {
    "hidden": true
   },
   "outputs": [
    {
     "data": {
      "text/plain": [
       "[-1, 0, 1]"
      ]
     },
     "execution_count": 49,
     "metadata": {},
     "output_type": "execute_result"
    }
   ],
   "source": [
    "list(range(-1,2))"
   ]
  },
  {
   "cell_type": "code",
   "execution_count": 56,
   "metadata": {
    "hidden": true
   },
   "outputs": [
    {
     "data": {
      "text/plain": [
       "2"
      ]
     },
     "execution_count": 56,
     "metadata": {},
     "output_type": "execute_result"
    }
   ],
   "source": [
    "(rim.full_data[\"z\"]-1).min(axis)"
   ]
  },
  {
   "cell_type": "code",
   "execution_count": 57,
   "metadata": {
    "hidden": true
   },
   "outputs": [],
   "source": [
    "for i in range(2):\n",
    "    for j in range(2):\n",
    "        for k in range(-1,2):\n",
    "            counts[np.clip(rim.full_data[\"z\"]+k, 0, counts.shape[0]-1),\n",
    "                   rim.full_data[\"color\"], rim.full_data[\"y\"]+i, rim.full_data[\"x\"]+j] = 1"
   ]
  },
  {
   "cell_type": "code",
   "execution_count": null,
   "metadata": {
    "hidden": true
   },
   "outputs": [],
   "source": [
    "(counts!=0).sum()"
   ]
  },
  {
   "cell_type": "code",
   "execution_count": 58,
   "metadata": {
    "hidden": true
   },
   "outputs": [],
   "source": [
    "image = np.concatenate([dapi, mcherry, counts], axis=1)"
   ]
  },
  {
   "cell_type": "code",
   "execution_count": 59,
   "metadata": {
    "hidden": true
   },
   "outputs": [],
   "source": [
    "save_tiff_from_float(\"02_QC/T6GBM_R1_W3A1_Dtest.tif\", image)"
   ]
  },
  {
   "cell_type": "markdown",
   "metadata": {
    "heading_collapsed": true
   },
   "source": [
    "# Appendix"
   ]
  },
  {
   "cell_type": "code",
   "execution_count": 53,
   "metadata": {
    "hidden": true
   },
   "outputs": [],
   "source": [
    "name = \"W3A1\"\n",
    "rim = ResolveImage(\"R1_01_raw/T6GBM_R1_\"+name+\"_transcripts.txt\",\n",
    "                  {#\"nuclei_resolve\": \"R1_01_raw/T6GBM_R1_\"+name+\"_DAPI.tiff\",\n",
    "                   })\n",
    "genes = pd.read_excel(\"../metadata/gbm_resolve_genes.xlsx\").fillna(\"\")\n",
    "genes.index = [gene.upper() if sp!=\"Mouse\" else gene.upper()+\"_M\" for gene, sp in zip(genes[\"Gene\"], genes[\"Species\"])]\n",
    "#genes[\"GeneMod\"] = [gene.upper() if sp!=\"Mouse\" else gene.upper()+\"_M\" for gene, sp in zip(genes[\"Gene\"], genes[\"Species\"])]\n",
    "#genes.index = np.asarray(genes[\"GeneMod\"])\n",
    "rim.genes = pd.merge(rim.genes,genes,left_index=True,right_index=True,how=\"left\").sort_values(\"Count\",ascending=False)"
   ]
  },
  {
   "cell_type": "code",
   "execution_count": 54,
   "metadata": {
    "hidden": true
   },
   "outputs": [],
   "source": [
    "rim.full_data[\"x\"] = rim.full_data[\"x\"]//8\n",
    "rim.full_data[\"y\"] = rim.full_data[\"y\"]//8\n",
    "rim.full_data[\"z\"] = rim.full_data[\"z\"]//2"
   ]
  },
  {
   "cell_type": "code",
   "execution_count": 55,
   "metadata": {
    "hidden": true
   },
   "outputs": [],
   "source": [
    "rim.full_data[\"x\"] = rim.full_data[\"x\"] - rim.full_data[\"x\"].min()\n",
    "rim.full_data[\"y\"] = rim.full_data[\"y\"] - rim.full_data[\"y\"].min()\n",
    "rim.full_data[\"z\"] = rim.full_data[\"z\"] - rim.full_data[\"z\"].min()"
   ]
  },
  {
   "cell_type": "code",
   "execution_count": 56,
   "metadata": {
    "hidden": true
   },
   "outputs": [],
   "source": [
    "img = np.zeros([rim.full_data[\"z\"].max()+1, 3, rim.full_data[\"x\"].max()+1, rim.full_data[\"y\"].max()+1])"
   ]
  },
  {
   "cell_type": "code",
   "execution_count": 57,
   "metadata": {
    "hidden": true
   },
   "outputs": [],
   "source": [
    "def add_df(img, df, i):\n",
    "    img[df[\"z\"],i,df[\"x\"],df[\"y\"]] = 1"
   ]
  },
  {
   "cell_type": "code",
   "execution_count": 58,
   "metadata": {
    "code_folding": [],
    "hidden": true
   },
   "outputs": [],
   "source": [
    "for gene in rim.genes[rim.genes[\"Species\"]==\"Mouse\"][\"GeneR\"]:\n",
    "    add_df(img, rim.full_data[rim.full_data[\"GeneR\"]==gene], 0)"
   ]
  },
  {
   "cell_type": "code",
   "execution_count": 59,
   "metadata": {
    "hidden": true
   },
   "outputs": [],
   "source": [
    "for gene in rim.genes[rim.genes[\"Species\"]==\"Human\"][\"GeneR\"]:\n",
    "    add_df(img, rim.full_data[rim.full_data[\"GeneR\"]==gene], 2 if gene == \"MCHERRY\" else 1)"
   ]
  },
  {
   "cell_type": "code",
   "execution_count": 60,
   "metadata": {
    "hidden": true
   },
   "outputs": [],
   "source": [
    "img = (img*255).astype(\"H\")"
   ]
  },
  {
   "cell_type": "code",
   "execution_count": 63,
   "metadata": {
    "hidden": true
   },
   "outputs": [],
   "source": [
    "save_tiff(\"R1_02_QC/T6GBM_R1_\"+name+\"_zDistribution.tif\", img)"
   ]
  },
  {
   "cell_type": "code",
   "execution_count": null,
   "metadata": {
    "hidden": true
   },
   "outputs": [],
   "source": []
  }
 ],
 "metadata": {
  "kernelspec": {
   "display_name": "Python 3",
   "language": "python",
   "name": "python3"
  },
  "language_info": {
   "codemirror_mode": {
    "name": "ipython",
    "version": 3
   },
   "file_extension": ".py",
   "mimetype": "text/x-python",
   "name": "python",
   "nbconvert_exporter": "python",
   "pygments_lexer": "ipython3",
   "version": "3.8.10"
  }
 },
 "nbformat": 4,
 "nbformat_minor": 4
}
